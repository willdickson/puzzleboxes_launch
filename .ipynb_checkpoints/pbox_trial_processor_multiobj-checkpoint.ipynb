{
 "cells": [
  {
   "cell_type": "code",
   "execution_count": 1,
   "metadata": {
    "code_folding": []
   },
   "outputs": [],
   "source": [
    "######################\n",
    "trials = [\n",
    "'011620_135607'\n",
    "    ]\n",
    "######################"
   ]
  },
  {
   "cell_type": "code",
   "execution_count": 26,
   "metadata": {
    "code_folding": [
     0
    ]
   },
   "outputs": [],
   "source": [
    "# scrap trial lists\n",
    "#     '112119_112752',\n",
    "#     '112119_134527',\n",
    "#     '112219_115341', \n",
    "#     '112219_135444',\n",
    "#     '112519_105926',\n",
    "#     '112519_132930',\n",
    "#     '112519_160932',\n",
    "#     '120919_101920',\n",
    "#     '120919_134003',\n",
    "#     '120919_162513',\n",
    "#     '121219_115309'"
   ]
  },
  {
   "cell_type": "code",
   "execution_count": 27,
   "metadata": {
    "code_folding": [
     0
    ]
   },
   "outputs": [],
   "source": [
    "# imports\n",
    "import numpy as np\n",
    "import math\n",
    "from scipy import signal\n",
    "import scipy.interpolate\n",
    "import matplotlib\n",
    "import matplotlib.pyplot as plt\n",
    "import matplotlib.colors as colors\n",
    "from matplotlib.colors import LinearSegmentedColormap\n",
    "import matplotlib.patches as patches\n",
    "import h5py\n",
    "import json\n",
    "import yaml\n",
    "from PIL import Image\n",
    "import sys\n",
    "import pickle\n",
    "import warnings\n",
    "warnings.filterwarnings('ignore')\n",
    "#warnings.filterwarnings(action='once')\n",
    "\n",
    "# %pylab inline"
   ]
  },
  {
   "cell_type": "code",
   "execution_count": 28,
   "metadata": {},
   "outputs": [],
   "source": [
    "# convert to mm\n"
   ]
  },
  {
   "cell_type": "code",
   "execution_count": 29,
   "metadata": {
    "code_folding": [
     0
    ]
   },
   "outputs": [],
   "source": [
    "# DEF convert trial schedule to seconds, and get total trial duration\n",
    "def convert_schedule_to_sec(trial_schedule):\n",
    "    t_total=0\n",
    "    schedule_in_sec = {}\n",
    "    for i, phase in enumerate(trial_schedule):\n",
    "        phase_duration = trial_schedule[i]['duration']*60.0\n",
    "        schedule_in_sec[i]={}\n",
    "        schedule_in_sec[i]['duration']=phase_duration\n",
    "        schedule_in_sec[i]['state']=trial_schedule[i]['state']\n",
    "        t_total += phase_duration\n",
    "    return schedule_in_sec, t_total"
   ]
  },
  {
   "cell_type": "code",
   "execution_count": 30,
   "metadata": {
    "code_folding": [
     0
    ]
   },
   "outputs": [],
   "source": [
    "# DEF radial distance\n",
    "def create_radial_array(center, x, y):\n",
    "    x_center = center[0]\n",
    "    y_center = center[1]\n",
    "    X_dist = x-x_center\n",
    "    Y_dist = y-y_center\n",
    "    dist = np.array([X_dist, Y_dist])\n",
    "    # generate radial distance array\n",
    "    radial = np.hypot(X_dist, Y_dist)\n",
    "    return radial"
   ]
  },
  {
   "cell_type": "code",
   "execution_count": 31,
   "metadata": {
    "code_folding": [
     0,
     8
    ]
   },
   "outputs": [],
   "source": [
    "# DEF go through trial and create dictionary with experiment data\n",
    "def extract_trial_data(trial):\n",
    "    data={}\n",
    "    for arena in range(100):\n",
    "        experiment = trial+'_'+str(arena)\n",
    "        f = 'data/' + experiment + '.hdf5'\n",
    "        try:\n",
    "            exp = h5py.File(f,'r')\n",
    "            data[arena]={\n",
    "                # trial data\n",
    "                'param':{},\n",
    "                'date_time':{},\n",
    "                'trial_schedule':{},\n",
    "                't_total':{}, # total time (sec)\n",
    "                # arena-specific metadata\n",
    "                'bg_image':{},\n",
    "                'fly':{},\n",
    "                'arena':{},\n",
    "                'center':{},\n",
    "                'region_width':{},\n",
    "                'region_height':{},\n",
    "                'led_policy':{},\n",
    "                'classifier_type':{},\n",
    "                'interpolation':{}, # frequency of subsampling\n",
    "                'notes':{},\n",
    "                # arena-specific timeseries data\n",
    "                'elapsed_t':{}, # raw time data\n",
    "                'times':{}, # interpolated time grid\n",
    "                'object_found':{},\n",
    "                'led_enabled':{},\n",
    "                'classifier':{},\n",
    "                'x':{},\n",
    "                'y':{},\n",
    "                'led':{},\n",
    "                'radial':{}, # create empty dictionary\n",
    "                'speed':{}\n",
    "            }\n",
    "            \n",
    "            # trial data\n",
    "            data[arena]['all_param']=exp.attrs['param'] # dump all attributes here just in case\n",
    "            param=yaml.load(exp.attrs['param'])\n",
    "            data[arena]['region_height']=param['regions']['height']\n",
    "            data[arena]['region_width']=param['regions']['width']\n",
    "            data[arena]['trial_schedule']=convert_schedule_to_sec(param['trial_schedule'])[0]\n",
    "            data[arena]['t_total']=convert_schedule_to_sec(param['trial_schedule'])[1]\n",
    "            \n",
    "            # arena-specific metadata\n",
    "            data[arena]['bg_image']=np.asarray(exp['bg_image'])\n",
    "            data[arena]['fly']=exp.attrs['fly']\n",
    "            data[arena]['arena']=exp.attrs['index']+1\n",
    "            data[arena]['center']=exp.attrs['center']\n",
    "            data[arena]['led_policy']=exp.attrs['led_policy']\n",
    "            data[arena]['classifier_type']=exp.attrs['classifier']\n",
    "            classifier_type = yaml.load(exp.attrs['classifier'])\n",
    "            data[arena]['param'] = yaml.load(classifier_type['param'])\n",
    "            data[arena]['date_time']=trial\n",
    "            data[arena]['notes']=exp.attrs['notes']\n",
    "            \n",
    "            # arena-specific timeseries data (interpolated)\n",
    "            data[arena]['elapsed_t']=np.asarray(exp['elapsed_t'])\n",
    "            data[arena]['object_found']=np.asarray(exp['object_found'])\n",
    "            data[arena]['led_enabled']=np.asarray(exp['led_enabled'])\n",
    "            data[arena]['classifier']=np.asarray(exp['classifier'])\n",
    "            data[arena]['fly_x']=np.asarray(exp['fly_x'])\n",
    "            data[arena]['fly_y']=np.asarray(exp['fly_y'])\n",
    "            data[arena]['ball_x']=np.asarray(exp['ball_x'])\n",
    "            data[arena]['ball_y']=np.asarray(exp['ball_y'])\n",
    "            data[arena]['led']=np.asarray(exp['led'])\n",
    "            \n",
    "#             # INTERPOLATION (to make regular time steps)\n",
    "#             data[arena]['elapsed_t']=np.asarray(exp['elapsed_t'])\n",
    "#             Hz = 20 # frequency of subsampling\n",
    "#             # make time grid for length of experiment time with defined resampling frequency.\n",
    "#             data[arena]['times'] = np.linspace(0,math.floor(data[arena]['elapsed_t'][-1]),math.floor(data[arena]['elapsed_t'][-1])*Hz+1)\n",
    "#             data[arena]['interpolation']=Hz\n",
    "            \n",
    "#             # arena-specific timeseries data (interpolated)\n",
    "#             data[arena]['object_found']=np.asarray(exp['object_found']) # grab data\n",
    "#             interpolator = scipy.interpolate.interp1d(data[arena]['elapsed_t'], data[arena]['object_found']) # create interpolator function based on raw times\n",
    "#             data[arena]['object_found'] = interpolator(data[arena]['times']) # interpolate based on timegrid\n",
    "#             data[arena]['led_enabled']=np.asarray(exp['led_enabled'])\n",
    "#             interpolator = scipy.interpolate.interp1d(data[arena]['elapsed_t'], data[arena]['led_enabled'])\n",
    "#             data[arena]['led_enabled'] = interpolator(data[arena]['times'])\n",
    "#             data[arena]['classifier']=np.asarray(exp['classifier'])\n",
    "#             interpolator = scipy.interpolate.interp1d(data[arena]['elapsed_t'], data[arena]['classifier'])\n",
    "#             data[arena]['classifier'] = interpolator(data[arena]['times'])\n",
    "#             data[arena]['x']=np.asarray(exp['x'])\n",
    "#             interpolator = scipy.interpolate.interp1d(data[arena]['elapsed_t'], data[arena]['x'])\n",
    "#             data[arena]['x'] = interpolator(data[arena]['times'])\n",
    "#             data[arena]['y']=np.asarray(exp['y'])\n",
    "#             interpolator = scipy.interpolate.interp1d(data[arena]['elapsed_t'], data[arena]['y'])\n",
    "#             data[arena]['y'] = interpolator(data[arena]['times'])\n",
    "#             data[arena]['led']=np.asarray(exp['led'])\n",
    "#             interpolator = scipy.interpolate.interp1d(data[arena]['elapsed_t'], data[arena]['led'])\n",
    "#             data[arena]['led'] = interpolator(data[arena]['times'])\n",
    "#             data[arena]['radial']=create_radial_array(data[arena]['center'],data[arena]['x'],data[arena]['y'])\n",
    "        except:\n",
    "            pass\n",
    "    return data"
   ]
  },
  {
   "cell_type": "code",
   "execution_count": 32,
   "metadata": {
    "code_folding": [
     0
    ]
   },
   "outputs": [],
   "source": [
    "# DEF filter data: only indices with object found, cut at trial end\n",
    "def filter_data(data):\n",
    "    for arena in data:\n",
    "        # mask: only indices where object found\n",
    "        obj_found = np.where(data[arena]['object_found']==1)[0]\n",
    "        data[arena]['elapsed_t']=data[arena]['elapsed_t'][obj_found]\n",
    "        data[arena]['object_found']=data[arena]['object_found'][obj_found]\n",
    "        data[arena]['led_enabled']=data[arena]['led_enabled'][obj_found]\n",
    "        data[arena]['classifier']=data[arena]['classifier'][obj_found]\n",
    "        data[arena]['fly_x']=data[arena]['fly_x'][obj_found]\n",
    "        data[arena]['fly_y']=data[arena]['fly_y'][obj_found]\n",
    "        data[arena]['ball_x']=data[arena]['ball_x'][obj_found]\n",
    "        data[arena]['ball_y']=data[arena]['ball_y'][obj_found]\n",
    "        data[arena]['led']=data[arena]['led'][obj_found]\n",
    "#         if len(obj_found)>0:\n",
    "#             # find end index\n",
    "#             t_total = data[arena]['t_total']\n",
    "#             elapsed_t = data[arena]['elapsed_t'][obj_found]\n",
    "#             try:\n",
    "#                 end = np.where(elapsed_t>t_total)[0][0]\n",
    "#             except:\n",
    "#                 end = len(elapsed_t)\n",
    "#             data[arena]['indices']=obj_found[0:end]\n",
    "#         else:\n",
    "#             data[arena]['indices']=[]\n",
    "    return data"
   ]
  },
  {
   "cell_type": "code",
   "execution_count": 33,
   "metadata": {
    "code_folding": [
     0
    ]
   },
   "outputs": [],
   "source": [
    "# DEF interpolate data (to make regular time steps)\n",
    "def interpolate_data(data, Hz):\n",
    "    for arena in data:\n",
    "        \n",
    "        data[arena]['interpolation']=Hz\n",
    "        \n",
    "        obj_found = np.where(data[arena]['object_found']==1)[0]\n",
    "        if np.sum(obj_found)>100:\n",
    "\n",
    "            # make time grid for length of experiment time with defined resampling frequency.\n",
    "            data[arena]['times'] = np.linspace(0,math.floor(data[arena]['elapsed_t'][-1]),math.floor(data[arena]['elapsed_t'][-1])*Hz+1)\n",
    "            # set first raw timepoint to zero, to allow interpolation to timegrid\n",
    "            data[arena]['elapsed_t'][0]=0.0\n",
    "\n",
    "            # go thru categorical timeseries data and interpolate to nearest value\n",
    "            interpolator = scipy.interpolate.interp1d(data[arena]['elapsed_t'], data[arena]['object_found'], kind='nearest') # create interpolator function based on raw times\n",
    "            data[arena]['object_found'] = interpolator(data[arena]['times']) # interpolate based on timegrid\n",
    "            interpolator = scipy.interpolate.interp1d(data[arena]['elapsed_t'], data[arena]['led_enabled'], kind='nearest')\n",
    "            data[arena]['led_enabled'] = interpolator(data[arena]['times'])\n",
    "            interpolator = scipy.interpolate.interp1d(data[arena]['elapsed_t'], data[arena]['classifier'], kind='nearest')\n",
    "            data[arena]['classifier'] = interpolator(data[arena]['times'])\n",
    "            interpolator = scipy.interpolate.interp1d(data[arena]['elapsed_t'], data[arena]['led'], kind='nearest')\n",
    "            data[arena]['led'] = interpolator(data[arena]['times'])\n",
    "\n",
    "            # go thru scalar timeseries data and interpolate linear\n",
    "            interpolator = scipy.interpolate.interp1d(data[arena]['elapsed_t'], data[arena]['fly_x'])\n",
    "            data[arena]['fly_x'] = interpolator(data[arena]['times'])\n",
    "            interpolator = scipy.interpolate.interp1d(data[arena]['elapsed_t'], data[arena]['fly_y'])\n",
    "            data[arena]['fly_y'] = interpolator(data[arena]['times'])\n",
    "            interpolator = scipy.interpolate.interp1d(data[arena]['elapsed_t'], data[arena]['ball_x'])\n",
    "            data[arena]['ball_x'] = interpolator(data[arena]['times'])\n",
    "            interpolator = scipy.interpolate.interp1d(data[arena]['elapsed_t'], data[arena]['ball_y'])\n",
    "            data[arena]['ball_y'] = interpolator(data[arena]['times'])\n",
    "    \n",
    "    return data"
   ]
  },
  {
   "cell_type": "code",
   "execution_count": 34,
   "metadata": {
    "code_folding": [
     0
    ]
   },
   "outputs": [],
   "source": [
    "# DEF get speed arrays\n",
    "def get_speed(data):\n",
    "    for arena in data:\n",
    "        dt = 1/float(data[arena]['interpolation'])\n",
    "        x=data[arena]['x']\n",
    "        y=data[arena]['y']\n",
    "        dX = np.diff(x)\n",
    "        dY = np.diff(y)\n",
    "        velX = dX/dt\n",
    "        velY = dY/dt\n",
    "        data[arena]['speed'] = np.power(np.power(velX,2) + np.power(velY,2),0.5)\n",
    "    \n",
    "    return data"
   ]
  },
  {
   "cell_type": "code",
   "execution_count": 35,
   "metadata": {
    "code_folding": [
     0
    ],
    "scrolled": false
   },
   "outputs": [
    {
     "name": "stdout",
     "output_type": "stream",
     "text": [
      "pickle created for: 011620_135607\n"
     ]
    }
   ],
   "source": [
    "# create pickle for each trial\n",
    "for trial in trials:\n",
    "    data = extract_trial_data(trial)\n",
    "    data = filter_data(data)\n",
    "    data = interpolate_data(data, Hz=20) # Hz = frequency of subsampling\n",
    "    # save data as pickle\n",
    "    data_path = 'data/' + trial + '.pickle'\n",
    "    with open(data_path, 'wb') as handle:\n",
    "        pickle.dump(data, handle, protocol=pickle.HIGHEST_PROTOCOL)\n",
    "    print('pickle created for: {}'.format(trial))"
   ]
  },
  {
   "cell_type": "code",
   "execution_count": 36,
   "metadata": {
    "code_folding": [
     0
    ]
   },
   "outputs": [
    {
     "name": "stdout",
     "output_type": "stream",
     "text": [
      "fly: {'Gr5a'}\n",
      "classifier: {'ficfruit_touch'}\n"
     ]
    }
   ],
   "source": [
    "# get all unique values of key parameters in dataset\n",
    "fly = {}\n",
    "\n",
    "for i in data:\n",
    "    di=data[i]\n",
    "    fly[i] = di['fly']\n",
    "    \n",
    "print('fly:', set(fly.values()))\n",
    "\n",
    "\n",
    "classifier = {}\n",
    "\n",
    "for i in data:\n",
    "    di=data[i]\n",
    "    c_type = yaml.load(di['classifier_type'])\n",
    "    classifier[i] =c_type['type']\n",
    "    \n",
    "print('classifier:', set(classifier.values()))"
   ]
  },
  {
   "cell_type": "code",
   "execution_count": null,
   "metadata": {},
   "outputs": [],
   "source": []
  },
  {
   "cell_type": "code",
   "execution_count": null,
   "metadata": {},
   "outputs": [],
   "source": []
  },
  {
   "cell_type": "code",
   "execution_count": null,
   "metadata": {},
   "outputs": [],
   "source": []
  },
  {
   "cell_type": "code",
   "execution_count": 31,
   "metadata": {},
   "outputs": [
    {
     "name": "stdout",
     "output_type": "stream",
     "text": [
      "0\n",
      "C-137\n",
      "1\n",
      "C-137\n",
      "2\n",
      "C-137\n",
      "3\n",
      "C-137\n",
      "4\n",
      "C-137\n",
      "5\n",
      "C-137\n",
      "6\n",
      "C-137\n",
      "7\n",
      "C-137\n",
      "8\n",
      "C-137\n",
      "9\n",
      "C-137\n",
      "10\n",
      "C-137\n",
      "11\n",
      "C-137\n",
      "12\n",
      "C-137\n",
      "13\n",
      "C-137\n",
      "14\n",
      "C-137\n",
      "15\n",
      "C-137\n",
      "16\n",
      "C-137\n",
      "17\n",
      "C-137\n",
      "18\n",
      "C-137\n",
      "19\n",
      "C-137\n",
      "20\n",
      "C-137\n",
      "21\n",
      "C-137\n",
      "22\n",
      "C-137\n",
      "23\n",
      "C-137\n",
      "24\n",
      "C-137\n",
      "25\n",
      "C-137\n",
      "26\n",
      "C-137\n",
      "27\n",
      "C-137\n",
      "28\n",
      "C-137\n",
      "29\n",
      "C-137\n",
      "30\n",
      "C-137\n",
      "31\n",
      "C-137\n",
      "32\n",
      "C-137\n",
      "33\n",
      "C-137\n",
      "34\n",
      "C-137\n"
     ]
    }
   ],
   "source": [
    "for i in data:\n",
    "    print(i)\n",
    "    print(data[i]['fly'])"
   ]
  },
  {
   "cell_type": "code",
   "execution_count": 25,
   "metadata": {
    "code_folding": []
   },
   "outputs": [],
   "source": [
    "for a in range(len(data)):\n",
    "    if len(data[a]['fly'])==0:\n",
    "        print(a)"
   ]
  },
  {
   "cell_type": "code",
   "execution_count": null,
   "metadata": {},
   "outputs": [],
   "source": []
  }
 ],
 "metadata": {
  "kernelspec": {
   "display_name": "Python 3",
   "language": "python",
   "name": "python3"
  },
  "language_info": {
   "codemirror_mode": {
    "name": "ipython",
    "version": 3
   },
   "file_extension": ".py",
   "mimetype": "text/x-python",
   "name": "python",
   "nbconvert_exporter": "python",
   "pygments_lexer": "ipython3",
   "version": "3.5.2"
  }
 },
 "nbformat": 4,
 "nbformat_minor": 2
}
